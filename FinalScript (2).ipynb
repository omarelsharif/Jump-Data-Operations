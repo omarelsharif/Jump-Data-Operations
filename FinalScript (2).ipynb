{
  "nbformat": 4,
  "nbformat_minor": 0,
  "metadata": {
    "colab": {
      "provenance": [],
      "collapsed_sections": []
    },
    "kernelspec": {
      "name": "python3",
      "display_name": "Python 3"
    },
    "language_info": {
      "name": "python"
    }
  },
  "cells": [
    {
      "cell_type": "code",
      "source": [
        "#Omar El-Sharif\n",
        "#This file was written in Python, on Google Colaboratory to ensure that regardless of the Python version you have, or the device you're using, \n",
        "#you are able to access it. If you'd like to run / edit the code yourself, simply place this file and the Excel sheet into a Google Drive folder.\n",
        "#Then, right click the file and when you see the 'Open With' option, click on Google Colaboratory.\n",
        "#Download Google Colaboratory (this takes <30 seconds) if needed\n",
        "#If you have any issues, you can try pasting the importdata function outside of the class, and running it first\n",
        "#You can then edit the line ('/content/drive/MyDrive/biodata/jumpdata.xlsx'), to reference the path that you have the Excel sheet placed in\n",
        "#Ie: You can delete the word biodata, and change it with your folder name, and delete the word jumpdata, and change it with your Excel sheet's name.\n",
        "\n",
        "#Please do not hesitate to reach out if you have any questions about the code, need help with Google Colaboratory, or any other questions you have!\n",
        "#Best Regards, Omar El-Sharif "
      ],
      "metadata": {
        "id": "jKrkZIv0wQl1"
      },
      "execution_count": null,
      "outputs": []
    },
    {
      "cell_type": "code",
      "source": [
        "class long_jumper:\n",
        "  distances = []   #List of distances\n",
        "  def __init__(self): \n",
        "        pass\n",
        "\n",
        "  def importdata(self): #Importing data from the Excel file in Google drive\n",
        "    from google.colab import drive\n",
        "    drive.mount ('/content/drive')\n",
        "    import pandas as pd\n",
        "    df = pd.read_excel('/content/drive/MyDrive/biodata/jumpdata.xlsx')\n",
        "    namelist = [] #Initializing empty lists to store the names and means \n",
        "    meanlist = []\n",
        "    for column in df: #Appending the names and means to the lists initialized above\n",
        "        namelist.append(df[column].name)\n",
        "        meanlist.append(df[column].mean().round(2))\n",
        "\n",
        "  def create_df2(self): #Creating a second DataFrame to store the means and names extracted from the first DataFrame\n",
        "    df2 = pd.DataFrame(list(zip(namelist, meanlist)), columns = ['Name', 'Mean'])\n",
        "  \n",
        "  def graphdata(self): #Graphing the values in the second DataFrame created above\n",
        "    import seaborn as sns\n",
        "    import matplotlib.pyplot as plt\n",
        "    ax = sns.barplot(data=df2, x=\"Name\", y=\"Mean\")\n",
        "    ax.set(xlabel='Jumper Name', \n",
        "          ylabel='Average Long Jump Height (In Feet)',\n",
        "          title=' Average Long Jump Distances')\n",
        "    plt.show()\n",
        "\n",
        "  def __repr__(self) -> str:\n",
        "        pass\n",
        "\n",
        "  def add_distance(self,distance):\n",
        "      self.distance = distance\n",
        "      # Add the instance to the distances list\n",
        "      self.distances.append(self)\n",
        "\n",
        "  def get_distance(self):\n",
        "      pass\n",
        "\n",
        "me = long_jumper() #Creating a variable that makes reference to the class for easier and more clean written references to the class\n",
        "me #Calling the class and the various functions (methods) within it\n",
        "me.importdata()\n",
        "me.create_df2()\n",
        "me.graphdata()\n",
        "me.add_distance(5.3)\n",
        "me.add_distance(5.5)\n"
      ],
      "metadata": {
        "id": "AEYs7SA9g7Ls",
        "colab": {
          "base_uri": "https://localhost:8080/",
          "height": 312
        },
        "outputId": "2167c365-d7c3-4264-e312-7bc201517775"
      },
      "execution_count": null,
      "outputs": [
        {
          "output_type": "stream",
          "name": "stdout",
          "text": [
            "Drive already mounted at /content/drive; to attempt to forcibly remount, call drive.mount(\"/content/drive\", force_remount=True).\n"
          ]
        },
        {
          "output_type": "display_data",
          "data": {
            "text/plain": [
              "<Figure size 432x288 with 1 Axes>"
            ],
            "image/png": "[encoded data removed]"
          },
          "metadata": {
            "needs_background": "light"
          }
        }
      ]
    }
  ]
}